{
 "cells": [
  {
   "cell_type": "code",
   "execution_count": 1,
   "id": "fd6556cf-aaff-41c2-9989-0882638acc6d",
   "metadata": {},
   "outputs": [
    {
     "name": "stdout",
     "output_type": "stream",
     "text": [
      "Welcome to my world\n"
     ]
    }
   ],
   "source": [
    "print(\"Welcome to my world\")"
   ]
  },
  {
   "cell_type": "code",
   "execution_count": 4,
   "id": "9ae89b53-7d1a-42b1-aedb-5c6bed636355",
   "metadata": {},
   "outputs": [
    {
     "name": "stdout",
     "output_type": "stream",
     "text": [
      "John\n",
      "John\n",
      "John\n",
      "John\n",
      "John\n",
      "John\n",
      "John\n"
     ]
    }
   ],
   "source": [
    "myvar = \"John\"\n",
    "my_var = \"John\"\n",
    "_my_var = \"John\"\n",
    "myVar = \"John\"\n",
    "MYVAR = \"John\"\n",
    "myvar2 = \"John\"\n",
    "my2var = \"John\"\n",
    "\n",
    "print(myvar)\n",
    "print(my_var)\n",
    "print(_my_var)\n",
    "print(myVar)\n",
    "print(MYVAR)\n",
    "print(myvar2)\n",
    "print(my2var)"
   ]
  },
  {
   "cell_type": "code",
   "execution_count": 4,
   "id": "a9361e49-5b1b-4a3d-b8e6-d73b4b5049f4",
   "metadata": {},
   "outputs": [
    {
     "ename": "SyntaxError",
     "evalue": "unterminated string literal (detected at line 2) (3736185897.py, line 2)",
     "output_type": "error",
     "traceback": [
      "\u001b[1;36m  Cell \u001b[1;32mIn[4], line 2\u001b[1;36m\u001b[0m\n\u001b[1;33m    C_Data={'Name':['Naveen','Sudha','Sumathi','Shilpi'],'Age':[22,24,34,32],'Address':['Chennai','US','Delhi','Hyd'],'Company':['AS','AS','AS','AS]}\u001b[0m\n\u001b[1;37m                                                                                                                                                ^\u001b[0m\n\u001b[1;31mSyntaxError\u001b[0m\u001b[1;31m:\u001b[0m unterminated string literal (detected at line 2)\n"
     ]
    }
   ],
   "source": [
    "#import pandas as pd\n",
    "C_Data={'Name':['Naveen','Sudha','Sumathi','Shilpi'],'Age':[22,24,34,32],'Address':['Chennai','US','Delhi','Hyd'],'Company':['AS','AS','AS','AS]}\n",
    "df=pd.dataframe(C_Data)\n",
    "print(df)\n",
    "                                                                                                                               "
   ]
  },
  {
   "cell_type": "code",
   "execution_count": 1,
   "id": "a042e968-b0fc-44b6-bfdd-cace5ac85a67",
   "metadata": {},
   "outputs": [
    {
     "name": "stdout",
     "output_type": "stream",
     "text": [
      "-4\n"
     ]
    }
   ],
   "source": [
    "print(-4)  #-4"
   ]
  },
  {
   "cell_type": "code",
   "execution_count": 2,
   "id": "748c6b4b-a1ad-4ff0-b47a-147298d22c03",
   "metadata": {},
   "outputs": [
    {
     "data": {
      "text/plain": [
       "2"
      ]
     },
     "execution_count": 2,
     "metadata": {},
     "output_type": "execute_result"
    }
   ],
   "source": [
    "1 + 1   "
   ]
  },
  {
   "cell_type": "code",
   "execution_count": 3,
   "id": "f2570592-3fc5-4025-bdc7-37c4f74ea7bc",
   "metadata": {},
   "outputs": [],
   "source": [
    "age = 8\n",
    "age += 1"
   ]
  },
  {
   "cell_type": "code",
   "execution_count": null,
   "id": "59bff009-b607-446e-b81c-ad7f74eec4e4",
   "metadata": {},
   "outputs": [],
   "source": []
  },
  {
   "cell_type": "code",
   "execution_count": 4,
   "id": "76464b16-e258-455a-9b4b-d618d71a41bc",
   "metadata": {},
   "outputs": [
    {
     "data": {
      "text/plain": [
       "False"
      ]
     },
     "execution_count": 4,
     "metadata": {},
     "output_type": "execute_result"
    }
   ],
   "source": [
    "a = 1\n",
    "b = 2\n",
    "a == b"
   ]
  },
  {
   "cell_type": "code",
   "execution_count": 5,
   "id": "b829991f-2e52-4fa6-af07-fa052dd81fb0",
   "metadata": {},
   "outputs": [
    {
     "data": {
      "text/plain": [
       "True"
      ]
     },
     "execution_count": 5,
     "metadata": {},
     "output_type": "execute_result"
    }
   ],
   "source": [
    "a != b #True\n",
    "a > b #False\n",
    "a <= b"
   ]
  },
  {
   "cell_type": "code",
   "execution_count": 6,
   "id": "d36faa03-e82d-4a03-ba3f-62461f112742",
   "metadata": {},
   "outputs": [
    {
     "name": "stdout",
     "output_type": "stream",
     "text": [
      "1\n"
     ]
    }
   ],
   "source": [
    "print(0 or 1) "
   ]
  },
  {
   "cell_type": "code",
   "execution_count": 7,
   "id": "949c4bcb-a6f2-48e4-ae94-eb1daecaacdd",
   "metadata": {},
   "outputs": [
    {
     "ename": "SyntaxError",
     "evalue": "invalid syntax (223681976.py, line 1)",
     "output_type": "error",
     "traceback": [
      "\u001b[1;36m  Cell \u001b[1;32mIn[7], line 1\u001b[1;36m\u001b[0m\n\u001b[1;33m    def is adult(age):\u001b[0m\n\u001b[1;37m        ^\u001b[0m\n\u001b[1;31mSyntaxError\u001b[0m\u001b[1;31m:\u001b[0m invalid syntax\n"
     ]
    }
   ],
   "source": [
    "def is adult(age):\n",
    "          if age > 18:\n",
    "               return True\n",
    "else:\n",
    "               return False"
   ]
  },
  {
   "cell_type": "code",
   "execution_count": 8,
   "id": "5da90ddb-6bca-4957-a741-27833f9464dc",
   "metadata": {},
   "outputs": [
    {
     "name": "stdout",
     "output_type": "stream",
     "text": [
      "The condition\n",
      "was True\n"
     ]
    }
   ],
   "source": [
    "condition = True\n",
    " \n",
    "if condition == True:\n",
    "        print(\"The condition\")\n",
    "        print(\"was True\")\n",
    "else:\n",
    "        print(\"The condition\")\n",
    "        print(\"was False\")"
   ]
  },
  {
   "cell_type": "code",
   "execution_count": 9,
   "id": "5e879aa4-5d6c-4d69-bf8f-d7220dad8e3d",
   "metadata": {},
   "outputs": [
    {
     "name": "stdout",
     "output_type": "stream",
     "text": [
      "The condition\n",
      "was True\n"
     ]
    }
   ],
   "source": [
    "condition = True\n",
    "name = \"Aspire\"\n",
    " \n",
    "if condition == True:\n",
    "      print(\"The condition\")\n",
    "      print(\"was True\")\n",
    "elif name == \"Aspire\":\n",
    "      print(\"Hello Aspire\")\n",
    "else:\n",
    "      print(\"The condition\")\n",
    "      print(\"was False\")"
   ]
  },
  {
   "cell_type": "code",
   "execution_count": 10,
   "id": "0b32cc66-950b-47c7-9d99-fe14ff3b91e4",
   "metadata": {},
   "outputs": [
    {
     "name": "stdout",
     "output_type": "stream",
     "text": [
      "The condition\n",
      "was True\n"
     ]
    }
   ],
   "source": [
    "condition = True\n",
    "name = \"Aspire\"\n",
    "if condition == True:\n",
    "         print(\"The condition\")\n",
    "         print(\"was True\")\n",
    "elif name == \"Naveen\":\n",
    "         print(\"Hello Naveen\")\n",
    "elif name == \"Jaya\":\n",
    "         print(\"Hello Jaya\")\n",
    "elif name == \"Kumar\":\n",
    "         print(\"Hello Kumar\")\n",
    "else:\n",
    "         print(\"The condition\")\n",
    "         print(\"was False\")"
   ]
  },
  {
   "cell_type": "code",
   "execution_count": 11,
   "id": "9ada4ca5-730a-429e-850c-5443e869da40",
   "metadata": {},
   "outputs": [
    {
     "name": "stdout",
     "output_type": "stream",
     "text": [
      "The condition\n",
      "was True\n"
     ]
    }
   ],
   "source": [
    "condition = True\n",
    "name = \"Aspire\"\n",
    "if condition == True:\n",
    "         print(\"The condition\")\n",
    "         print(\"was True\")\n",
    "elif name == \"Naveen\":\n",
    "         print(\"Hello Naveen\")\n",
    "elif name == \"Jaya\":\n",
    "         print(\"Hello Jaya\")\n",
    "elif name == \"Kumar\":\n",
    "         print(\"Hello Kumar\")\n",
    "else:\n",
    "         print(\"The condition\")\n",
    "         print(\"was False\")"
   ]
  },
  {
   "cell_type": "code",
   "execution_count": 19,
   "id": "faace9f8-9b95-46c7-bbf1-4dfc6a5a48bc",
   "metadata": {},
   "outputs": [
    {
     "name": "stdout",
     "output_type": "stream",
     "text": [
      "{'Name': ['Naveen', 'Sudha', 'Sumathi', 'Shilpi'], 'Age': [22, 24, 34, 32], 'Address': ['Chennai', 'US', 'Delhi', 'Hyd'], 'Company': ['AS', 'AS', 'AS', 'AS']}\n"
     ]
    }
   ],
   "source": [
    "#import pandas as pd\n",
    "C_Data={'Name':['Naveen','Sudha','Sumathi','Shilpi'],\n",
    "        'Age':[22,24,34,32],\n",
    "        'Address':['Chennai','US','Delhi','Hyd'],\n",
    "        'Company':['AS','AS','AS','AS']}\n",
    "#df=pd.DataFrame(C_Data)\n",
    "print(C_Data)"
   ]
  },
  {
   "cell_type": "code",
   "execution_count": 13,
   "id": "85ccc9e5-c4bf-4a6f-b494-64d6627f8e56",
   "metadata": {},
   "outputs": [
    {
     "name": "stdout",
     "output_type": "stream",
     "text": [
      "      Name  Age    Address        Company\n",
      "0  Bharath   27    Chennai  Aspire system\n",
      "1  Bharath   28    Chennai  Aspire system\n",
      "2  Sumathi   33      Delhi  Aspire system\n",
      "3    Lalit   34        Hyd  Aspire system\n",
      "4    Abdul   23  bangalore  Aspire system\n"
     ]
    }
   ],
   "source": [
    "import pandas as pd\n",
    "\n",
    "C_Data = { 'Name' :['Bharath','Bharath','Sumathi','Lalit','Abdul'],\n",
    "          'Age': [27,28,33,34,23],\n",
    "          'Address': ['Chennai','Chennai','Delhi','Hyd','bangalore'],\n",
    "          'Company':['Aspire system','Aspire system','Aspire system','Aspire system','Aspire system']}\n",
    "df =pd.DataFrame(C_Data)\n",
    "\n",
    "print(df)"
   ]
  },
  {
   "cell_type": "code",
   "execution_count": 1,
   "id": "d4cf88d1-fffd-4242-8eee-c593ae41b4d4",
   "metadata": {},
   "outputs": [
    {
     "name": "stdout",
     "output_type": "stream",
     "text": [
      "          Duration          Date  Pulse  Maxpulse  Calories\n",
      "0     0         60  '2020/12/01'    110       130     409.1\n",
      "1     1         60  '2020/12/02'    117       145     479.0\n",
      "2     2         60  '2020/12/03'    103       135     340.0\n",
      "3     3         45  '2020/12/04'    109       175     282.4\n",
      "4     4         45  '2020/12/05'    117       148     406.0\n",
      "5     5         60  '2020/12/06'    102       127     300.0\n",
      "6     6         60  '2020/12/07'    110       136     374.0\n",
      "7     7        450  '2020/12/08'    104       134     253.3\n",
      "8     8         30  '2020/12/09'    109       133     195.1\n",
      "9     9         60  '2020/12/10'     98       124     269.0\n",
      "10    10        60  '2020/12/11'    103       147     329.3\n",
      "11    11        60  '2020/12/12'    100       120     250.7\n",
      "12    12        60  '2020/12/12'    100       120     250.7\n",
      "13    13        60  '2020/12/13'    106       128     345.3\n",
      "14    14        60  '2020/12/14'    104       132     379.3\n",
      "15    15        60  '2020/12/15'     98       123     275.0\n",
      "16    16        60  '2020/12/16'     98       120     215.2\n",
      "17    17        60  '2020/12/17'    100       120     300.0\n",
      "18    18        45  '2020/12/18'     90       112       NaN\n",
      "19    19        60  '2020/12/19'    103       123     323.0\n",
      "20    20        45  '2020/12/20'     97       125     243.0\n",
      "21    21        60  '2020/12/21'    108       131     364.2\n",
      "22    22        45           NaN    100       119     282.0\n",
      "23    23        60  '2020/12/23'    130       101     300.0\n",
      "24    24        45  '2020/12/24'    105       132     246.0\n",
      "25    25        60  '2020/12/25'    102       126     334.5\n",
      "26    26        60      20201226    100       120     250.0\n",
      "27    27        60  '2020/12/27'     92       118     241.0\n",
      "28    28        60  '2020/12/28'    103       132       NaN\n",
      "29    29        60  '2020/12/29'    100       132     280.0\n",
      "30    30        60  '2020/12/30'    102       129     380.3\n",
      "31    31        60  '2020/12/31'     92       115     243.0\n"
     ]
    }
   ],
   "source": [
    "import pandas as pd\n",
    "\n",
    "df = pd.read_csv('data.1.csv')\n",
    "\n",
    "print(df.to_string())"
   ]
  },
  {
   "cell_type": "code",
   "execution_count": 2,
   "id": "58551cf8-2bc7-442e-8414-fdbbf6693b2c",
   "metadata": {},
   "outputs": [
    {
     "name": "stdout",
     "output_type": "stream",
     "text": [
      "    Duration          Date  Pulse  Maxpulse  Calories\n",
      "0    0         60  '2020/12/01'    110       130 ... \n",
      "1    1         60  '2020/12/02'    117       145 ... \n",
      "2    2         60  '2020/12/03'    103       135 ... \n",
      "3    3         45  '2020/12/04'    109       175 ... \n",
      "4    4         45  '2020/12/05'    117       148 ... \n"
     ]
    }
   ],
   "source": [
    "df = pd.read_csv('data.1.csv')\n",
    "\n",
    "print(df.head())"
   ]
  },
  {
   "cell_type": "code",
   "execution_count": 3,
   "id": "a5b88d7d-2fba-487e-aa02-31d3bbeb7816",
   "metadata": {},
   "outputs": [
    {
     "name": "stdout",
     "output_type": "stream",
     "text": [
      "    Duration          Date  Pulse  Maxpulse  Calories\n",
      "0    0         60  '2020/12/01'    110       130 ... \n",
      "1    1         60  '2020/12/02'    117       145 ... \n",
      "2    2         60  '2020/12/03'    103       135 ... \n",
      "3    3         45  '2020/12/04'    109       175 ... \n",
      "4    4         45  '2020/12/05'    117       148 ... \n",
      "5    5         60  '2020/12/06'    102       127 ... \n",
      "6    6         60  '2020/12/07'    110       136 ... \n",
      "7    7        450  '2020/12/08'    104       134 ... \n",
      "8    8         30  '2020/12/09'    109       133 ... \n",
      "9    9         60  '2020/12/10'     98       124 ... \n"
     ]
    }
   ],
   "source": [
    "df = pd.read_csv('data.1.csv')\n",
    "\n",
    "print(df.head(10))"
   ]
  },
  {
   "cell_type": "code",
   "execution_count": 4,
   "id": "1ba8cf73-75d5-484c-90fd-a0bf64d85b14",
   "metadata": {},
   "outputs": [
    {
     "name": "stdout",
     "output_type": "stream",
     "text": [
      "     Duration          Date  Pulse  Maxpulse  Calories\n",
      "27    27        60  '2020/12/27'     92       118 ... \n",
      "28    28        60  '2020/12/28'    103       132 ... \n",
      "29    29        60  '2020/12/29'    100       132 ... \n",
      "30    30        60  '2020/12/30'    102       129 ... \n",
      "31    31        60  '2020/12/31'     92       115 ... \n"
     ]
    }
   ],
   "source": [
    "df = pd.read_csv('data.1.csv')\n",
    "print(df.tail())"
   ]
  },
  {
   "cell_type": "code",
   "execution_count": 5,
   "id": "2a8480a8-afca-4be1-99c0-3b0a46ba65e4",
   "metadata": {},
   "outputs": [
    {
     "name": "stdout",
     "output_type": "stream",
     "text": [
      "     Duration          Date  Pulse  Maxpulse  Calories\n",
      "17    17        60  '2020/12/17'    100       120 ... \n",
      "18    18        45  '2020/12/18'     90       112 ... \n",
      "19    19        60  '2020/12/19'    103       123 ... \n",
      "20    20        45  '2020/12/20'     97       125 ... \n",
      "21    21        60  '2020/12/21'    108       131 ... \n",
      "22    22        45           NaN    100       119 ... \n",
      "23    23        60  '2020/12/23'    130       101 ... \n",
      "24    24        45  '2020/12/24'    105       132 ... \n",
      "25    25        60  '2020/12/25'    102       126 ... \n",
      "26    26        60      20201226    100       120 ... \n",
      "27    27        60  '2020/12/27'     92       118 ... \n",
      "28    28        60  '2020/12/28'    103       132 ... \n",
      "29    29        60  '2020/12/29'    100       132 ... \n",
      "30    30        60  '2020/12/30'    102       129 ... \n",
      "31    31        60  '2020/12/31'     92       115 ... \n"
     ]
    }
   ],
   "source": [
    "df=pd.read_csv('data.1.csv')\n",
    "print(df.tail(15))"
   ]
  },
  {
   "cell_type": "code",
   "execution_count": 7,
   "id": "4e57018c-ac4b-4be2-ab2e-e7a932b1d9e1",
   "metadata": {},
   "outputs": [
    {
     "name": "stdout",
     "output_type": "stream",
     "text": [
      "<class 'pandas.core.frame.DataFrame'>\n",
      "RangeIndex: 32 entries, 0 to 31\n",
      "Data columns (total 1 columns):\n",
      " #   Column                                               Non-Null Count  Dtype \n",
      "---  ------                                               --------------  ----- \n",
      " 0     Duration          Date  Pulse  Maxpulse  Calories  32 non-null     object\n",
      "dtypes: object(1)\n",
      "memory usage: 388.0+ bytes\n",
      "None\n"
     ]
    }
   ],
   "source": [
    "df=pd.read_csv('data.1.csv')\n",
    "print(df.info())"
   ]
  },
  {
   "cell_type": "code",
   "execution_count": 8,
   "id": "011b0639-6c7f-47d2-af6d-671c3c48f803",
   "metadata": {},
   "outputs": [
    {
     "name": "stdout",
     "output_type": "stream",
     "text": [
      "          Duration          Date  Pulse  Maxpulse  Calories\n",
      "0     0         60  '2020/12/01'    110       130     409.1\n",
      "1     1         60  '2020/12/02'    117       145     479.0\n",
      "2     2         60  '2020/12/03'    103       135     340.0\n",
      "3     3         45  '2020/12/04'    109       175     282.4\n",
      "4     4         45  '2020/12/05'    117       148     406.0\n",
      "5     5         60  '2020/12/06'    102       127     300.0\n",
      "6     6         60  '2020/12/07'    110       136     374.0\n",
      "7     7        450  '2020/12/08'    104       134     253.3\n",
      "8     8         30  '2020/12/09'    109       133     195.1\n",
      "9     9         60  '2020/12/10'     98       124     269.0\n",
      "10    10        60  '2020/12/11'    103       147     329.3\n",
      "11    11        60  '2020/12/12'    100       120     250.7\n",
      "12    12        60  '2020/12/12'    100       120     250.7\n",
      "13    13        60  '2020/12/13'    106       128     345.3\n",
      "14    14        60  '2020/12/14'    104       132     379.3\n",
      "15    15        60  '2020/12/15'     98       123     275.0\n",
      "16    16        60  '2020/12/16'     98       120     215.2\n",
      "17    17        60  '2020/12/17'    100       120     300.0\n",
      "18    18        45  '2020/12/18'     90       112       NaN\n",
      "19    19        60  '2020/12/19'    103       123     323.0\n",
      "20    20        45  '2020/12/20'     97       125     243.0\n",
      "21    21        60  '2020/12/21'    108       131     364.2\n",
      "22    22        45           NaN    100       119     282.0\n",
      "23    23        60  '2020/12/23'    130       101     300.0\n",
      "24    24        45  '2020/12/24'    105       132     246.0\n",
      "25    25        60  '2020/12/25'    102       126     334.5\n",
      "26    26        60      20201226    100       120     250.0\n",
      "27    27        60  '2020/12/27'     92       118     241.0\n",
      "28    28        60  '2020/12/28'    103       132       NaN\n",
      "29    29        60  '2020/12/29'    100       132     280.0\n",
      "30    30        60  '2020/12/30'    102       129     380.3\n",
      "31    31        60  '2020/12/31'     92       115     243.0\n"
     ]
    }
   ],
   "source": [
    "df=pd.read_csv('data.1.csv')\n",
    "df.dropna()\n",
    "print(df.to_string())"
   ]
  },
  {
   "cell_type": "code",
   "execution_count": 9,
   "id": "07e38daa-d972-4941-91b9-73b04974ff53",
   "metadata": {},
   "outputs": [
    {
     "name": "stdout",
     "output_type": "stream",
     "text": [
      "          Duration          Date  Pulse  Maxpulse  Calories\n",
      "0     0         60  '2020/12/01'    110       130     409.1\n",
      "1     1         60  '2020/12/02'    117       145     479.0\n",
      "2     2         60  '2020/12/03'    103       135     340.0\n",
      "3     3         45  '2020/12/04'    109       175     282.4\n",
      "4     4         45  '2020/12/05'    117       148     406.0\n",
      "5     5         60  '2020/12/06'    102       127     300.0\n",
      "6     6         60  '2020/12/07'    110       136     374.0\n",
      "7     7        450  '2020/12/08'    104       134     253.3\n",
      "8     8         30  '2020/12/09'    109       133     195.1\n",
      "9     9         60  '2020/12/10'     98       124     269.0\n",
      "10    10        60  '2020/12/11'    103       147     329.3\n",
      "11    11        60  '2020/12/12'    100       120     250.7\n",
      "12    12        60  '2020/12/12'    100       120     250.7\n",
      "13    13        60  '2020/12/13'    106       128     345.3\n",
      "14    14        60  '2020/12/14'    104       132     379.3\n",
      "15    15        60  '2020/12/15'     98       123     275.0\n",
      "16    16        60  '2020/12/16'     98       120     215.2\n",
      "17    17        60  '2020/12/17'    100       120     300.0\n",
      "18    18        45  '2020/12/18'     90       112       NaN\n",
      "19    19        60  '2020/12/19'    103       123     323.0\n",
      "20    20        45  '2020/12/20'     97       125     243.0\n",
      "21    21        60  '2020/12/21'    108       131     364.2\n",
      "22    22        45           NaN    100       119     282.0\n",
      "23    23        60  '2020/12/23'    130       101     300.0\n",
      "24    24        45  '2020/12/24'    105       132     246.0\n",
      "25    25        60  '2020/12/25'    102       126     334.5\n",
      "26    26        60      20201226    100       120     250.0\n",
      "27    27        60  '2020/12/27'     92       118     241.0\n",
      "28    28        60  '2020/12/28'    103       132       NaN\n",
      "29    29        60  '2020/12/29'    100       132     280.0\n",
      "30    30        60  '2020/12/30'    102       129     380.3\n",
      "31    31        60  '2020/12/31'     92       115     243.0\n"
     ]
    }
   ],
   "source": [
    "df=pd.read_csv('data.1.csv')\n",
    "df.dropna(inplace=True)\n",
    "print(df.to_string())"
   ]
  },
  {
   "cell_type": "code",
   "execution_count": 11,
   "id": "0f5d3508-0b10-49c4-827d-cf97c169ea30",
   "metadata": {},
   "outputs": [
    {
     "name": "stdout",
     "output_type": "stream",
     "text": [
      "          Duration          Date  Pulse  Maxpulse  Calories\n",
      "0     0         60  '2020/12/01'    110       130     409.1\n",
      "1     1         60  '2020/12/02'    117       145     479.0\n",
      "2     2         60  '2020/12/03'    103       135     340.0\n",
      "3     3         45  '2020/12/04'    109       175     282.4\n",
      "4     4         45  '2020/12/05'    117       148     406.0\n",
      "5     5         60  '2020/12/06'    102       127     300.0\n",
      "6     6         60  '2020/12/07'    110       136     374.0\n",
      "7     7        450  '2020/12/08'    104       134     253.3\n",
      "8     8         30  '2020/12/09'    109       133     195.1\n",
      "9     9         60  '2020/12/10'     98       124     269.0\n",
      "10    10        60  '2020/12/11'    103       147     329.3\n",
      "11    11        60  '2020/12/12'    100       120     250.7\n",
      "12    12        60  '2020/12/12'    100       120     250.7\n",
      "13    13        60  '2020/12/13'    106       128     345.3\n",
      "14    14        60  '2020/12/14'    104       132     379.3\n",
      "15    15        60  '2020/12/15'     98       123     275.0\n",
      "16    16        60  '2020/12/16'     98       120     215.2\n",
      "17    17        60  '2020/12/17'    100       120     300.0\n",
      "18    18        45  '2020/12/18'     90       112       NaN\n",
      "19    19        60  '2020/12/19'    103       123     323.0\n",
      "20    20        45  '2020/12/20'     97       125     243.0\n",
      "21    21        60  '2020/12/21'    108       131     364.2\n",
      "22    22        45           NaN    100       119     282.0\n",
      "23    23        60  '2020/12/23'    130       101     300.0\n",
      "24    24        45  '2020/12/24'    105       132     246.0\n",
      "25    25        60  '2020/12/25'    102       126     334.5\n",
      "26    26        60      20201226    100       120     250.0\n",
      "27    27        60  '2020/12/27'     92       118     241.0\n",
      "28    28        60  '2020/12/28'    103       132       NaN\n",
      "29    29        60  '2020/12/29'    100       132     280.0\n",
      "30    30        60  '2020/12/30'    102       129     380.3\n",
      "31    31        60  '2020/12/31'     92       115     243.0\n"
     ]
    }
   ],
   "source": [
    "df=pd.read_csv('data.1.csv')\n",
    "df.fillna(45,inplace=True)\n",
    "print(df.to_string())"
   ]
  },
  {
   "cell_type": "code",
   "execution_count": 13,
   "id": "c898ea22-a15c-4402-ba76-b30d5b860fa4",
   "metadata": {},
   "outputs": [
    {
     "ename": "KeyError",
     "evalue": "'Calories'",
     "output_type": "error",
     "traceback": [
      "\u001b[1;31m---------------------------------------------------------------------------\u001b[0m",
      "\u001b[1;31mKeyError\u001b[0m                                  Traceback (most recent call last)",
      "File \u001b[1;32m~\\.anaconda navigator\\Lib\\site-packages\\pandas\\core\\indexes\\base.py:3791\u001b[0m, in \u001b[0;36mIndex.get_loc\u001b[1;34m(self, key)\u001b[0m\n\u001b[0;32m   3790\u001b[0m \u001b[38;5;28;01mtry\u001b[39;00m:\n\u001b[1;32m-> 3791\u001b[0m     \u001b[38;5;28;01mreturn\u001b[39;00m \u001b[38;5;28mself\u001b[39m\u001b[38;5;241m.\u001b[39m_engine\u001b[38;5;241m.\u001b[39mget_loc(casted_key)\n\u001b[0;32m   3792\u001b[0m \u001b[38;5;28;01mexcept\u001b[39;00m \u001b[38;5;167;01mKeyError\u001b[39;00m \u001b[38;5;28;01mas\u001b[39;00m err:\n",
      "File \u001b[1;32mindex.pyx:152\u001b[0m, in \u001b[0;36mpandas._libs.index.IndexEngine.get_loc\u001b[1;34m()\u001b[0m\n",
      "File \u001b[1;32mindex.pyx:181\u001b[0m, in \u001b[0;36mpandas._libs.index.IndexEngine.get_loc\u001b[1;34m()\u001b[0m\n",
      "File \u001b[1;32mpandas\\_libs\\hashtable_class_helper.pxi:7080\u001b[0m, in \u001b[0;36mpandas._libs.hashtable.PyObjectHashTable.get_item\u001b[1;34m()\u001b[0m\n",
      "File \u001b[1;32mpandas\\_libs\\hashtable_class_helper.pxi:7088\u001b[0m, in \u001b[0;36mpandas._libs.hashtable.PyObjectHashTable.get_item\u001b[1;34m()\u001b[0m\n",
      "\u001b[1;31mKeyError\u001b[0m: 'Calories'",
      "\nThe above exception was the direct cause of the following exception:\n",
      "\u001b[1;31mKeyError\u001b[0m                                  Traceback (most recent call last)",
      "Cell \u001b[1;32mIn[13], line 5\u001b[0m\n\u001b[0;32m      1\u001b[0m \u001b[38;5;28;01mimport\u001b[39;00m \u001b[38;5;21;01mpandas\u001b[39;00m \u001b[38;5;28;01mas\u001b[39;00m \u001b[38;5;21;01mpd\u001b[39;00m\n\u001b[0;32m      3\u001b[0m df \u001b[38;5;241m=\u001b[39m pd\u001b[38;5;241m.\u001b[39mread_csv(\u001b[38;5;124m'\u001b[39m\u001b[38;5;124mdata.1.csv\u001b[39m\u001b[38;5;124m'\u001b[39m)\n\u001b[1;32m----> 5\u001b[0m df[\u001b[38;5;124m'\u001b[39m\u001b[38;5;124mCalories\u001b[39m\u001b[38;5;124m'\u001b[39m]\u001b[38;5;241m.\u001b[39mfillna(\u001b[38;5;241m130\u001b[39m, inplace \u001b[38;5;241m=\u001b[39m \u001b[38;5;28;01mTrue\u001b[39;00m)\n",
      "File \u001b[1;32m~\\.anaconda navigator\\Lib\\site-packages\\pandas\\core\\frame.py:3893\u001b[0m, in \u001b[0;36mDataFrame.__getitem__\u001b[1;34m(self, key)\u001b[0m\n\u001b[0;32m   3891\u001b[0m \u001b[38;5;28;01mif\u001b[39;00m \u001b[38;5;28mself\u001b[39m\u001b[38;5;241m.\u001b[39mcolumns\u001b[38;5;241m.\u001b[39mnlevels \u001b[38;5;241m>\u001b[39m \u001b[38;5;241m1\u001b[39m:\n\u001b[0;32m   3892\u001b[0m     \u001b[38;5;28;01mreturn\u001b[39;00m \u001b[38;5;28mself\u001b[39m\u001b[38;5;241m.\u001b[39m_getitem_multilevel(key)\n\u001b[1;32m-> 3893\u001b[0m indexer \u001b[38;5;241m=\u001b[39m \u001b[38;5;28mself\u001b[39m\u001b[38;5;241m.\u001b[39mcolumns\u001b[38;5;241m.\u001b[39mget_loc(key)\n\u001b[0;32m   3894\u001b[0m \u001b[38;5;28;01mif\u001b[39;00m is_integer(indexer):\n\u001b[0;32m   3895\u001b[0m     indexer \u001b[38;5;241m=\u001b[39m [indexer]\n",
      "File \u001b[1;32m~\\.anaconda navigator\\Lib\\site-packages\\pandas\\core\\indexes\\base.py:3798\u001b[0m, in \u001b[0;36mIndex.get_loc\u001b[1;34m(self, key)\u001b[0m\n\u001b[0;32m   3793\u001b[0m     \u001b[38;5;28;01mif\u001b[39;00m \u001b[38;5;28misinstance\u001b[39m(casted_key, \u001b[38;5;28mslice\u001b[39m) \u001b[38;5;129;01mor\u001b[39;00m (\n\u001b[0;32m   3794\u001b[0m         \u001b[38;5;28misinstance\u001b[39m(casted_key, abc\u001b[38;5;241m.\u001b[39mIterable)\n\u001b[0;32m   3795\u001b[0m         \u001b[38;5;129;01mand\u001b[39;00m \u001b[38;5;28many\u001b[39m(\u001b[38;5;28misinstance\u001b[39m(x, \u001b[38;5;28mslice\u001b[39m) \u001b[38;5;28;01mfor\u001b[39;00m x \u001b[38;5;129;01min\u001b[39;00m casted_key)\n\u001b[0;32m   3796\u001b[0m     ):\n\u001b[0;32m   3797\u001b[0m         \u001b[38;5;28;01mraise\u001b[39;00m InvalidIndexError(key)\n\u001b[1;32m-> 3798\u001b[0m     \u001b[38;5;28;01mraise\u001b[39;00m \u001b[38;5;167;01mKeyError\u001b[39;00m(key) \u001b[38;5;28;01mfrom\u001b[39;00m \u001b[38;5;21;01merr\u001b[39;00m\n\u001b[0;32m   3799\u001b[0m \u001b[38;5;28;01mexcept\u001b[39;00m \u001b[38;5;167;01mTypeError\u001b[39;00m:\n\u001b[0;32m   3800\u001b[0m     \u001b[38;5;66;03m# If we have a listlike key, _check_indexing_error will raise\u001b[39;00m\n\u001b[0;32m   3801\u001b[0m     \u001b[38;5;66;03m#  InvalidIndexError. Otherwise we fall through and re-raise\u001b[39;00m\n\u001b[0;32m   3802\u001b[0m     \u001b[38;5;66;03m#  the TypeError.\u001b[39;00m\n\u001b[0;32m   3803\u001b[0m     \u001b[38;5;28mself\u001b[39m\u001b[38;5;241m.\u001b[39m_check_indexing_error(key)\n",
      "\u001b[1;31mKeyError\u001b[0m: 'Calories'"
     ]
    }
   ],
   "source": [
    "import pandas as pd\n",
    "\n",
    "df = pd.read_csv('data.1.csv')\n",
    "\n",
    "df['Calories'].fillna(130, inplace = True)"
   ]
  },
  {
   "cell_type": "code",
   "execution_count": null,
   "id": "4c0a0415-48d0-4b23-be4b-f90d04837c2c",
   "metadata": {},
   "outputs": [],
   "source": []
  }
 ],
 "metadata": {
  "kernelspec": {
   "display_name": "Python 3 (ipykernel)",
   "language": "python",
   "name": "python3"
  },
  "language_info": {
   "codemirror_mode": {
    "name": "ipython",
    "version": 3
   },
   "file_extension": ".py",
   "mimetype": "text/x-python",
   "name": "python",
   "nbconvert_exporter": "python",
   "pygments_lexer": "ipython3",
   "version": "3.11.7"
  }
 },
 "nbformat": 4,
 "nbformat_minor": 5
}
